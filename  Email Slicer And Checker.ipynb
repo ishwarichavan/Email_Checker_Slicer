{
 "cells": [
  {
   "cell_type": "code",
   "execution_count": 32,
   "id": "59c32f13",
   "metadata": {},
   "outputs": [
    {
     "name": "stdout",
     "output_type": "stream",
     "text": [
      "Enter your emailid : sumi@gmail.com\n",
      "valid Email\n"
     ]
    }
   ],
   "source": [
    "e=input(\"Enter your emailid : \")\n",
    "import re\n",
    "regex = r'\\b[A-Za-z0-9._%+-]+@[A-Za-z0-9.-]+\\.[A-Z|a-z]{2,}\\b'\n",
    "def check(e):\n",
    "    if(re.fullmatch(regex, e)):\n",
    "        print(\"valid Email\")\n",
    "    else:\n",
    "        print(\"Invalid Email\")\n",
    "check(e)\n"
   ]
  },
  {
   "cell_type": "code",
   "execution_count": 33,
   "id": "0cdbadf7",
   "metadata": {},
   "outputs": [
    {
     "name": "stdout",
     "output_type": "stream",
     "text": [
      "Username is : 'sumi' domainname is : 'gmail.com'\n"
     ]
    }
   ],
   "source": [
    "username=e[ :e.index(\"@\")]\n",
    "domainname=e[e.index(\"@\")+1:]\n",
    "print(\"Username is : '{}' domainname is : '{}'\".format(username,domainname))\n"
   ]
  },
  {
   "cell_type": "code",
   "execution_count": null,
   "id": "54636547",
   "metadata": {},
   "outputs": [],
   "source": []
  },
  {
   "cell_type": "code",
   "execution_count": null,
   "id": "917b5f41",
   "metadata": {},
   "outputs": [],
   "source": []
  }
 ],
 "metadata": {
  "kernelspec": {
   "display_name": "Python 3 (ipykernel)",
   "language": "python",
   "name": "python3"
  },
  "language_info": {
   "codemirror_mode": {
    "name": "ipython",
    "version": 3
   },
   "file_extension": ".py",
   "mimetype": "text/x-python",
   "name": "python",
   "nbconvert_exporter": "python",
   "pygments_lexer": "ipython3",
   "version": "3.9.6"
  }
 },
 "nbformat": 4,
 "nbformat_minor": 5
}
